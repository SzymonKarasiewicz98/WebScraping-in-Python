{
 "cells": [
  {
   "attachments": {},
   "cell_type": "markdown",
   "metadata": {},
   "source": [
    "# WEB SCRAPING"
   ]
  },
  {
   "attachments": {},
   "cell_type": "markdown",
   "metadata": {},
   "source": [
    "Celem tego kodu było stworzenie funkcji get_model_pages_urls, która przyjmuje od uzytkownika jedynie nazwe producenta. (car_brand)\n",
    "\n",
    "Nazwa producenta za pomoca f stringa jest dodawana do URL.\n",
    "\n",
    "Następnie za pomocą biblioteki BeautifulSoup dostajemy się do strony internetowej i pobieramy interesujące nas informacje\n",
    "\n",
    "W tym przypadku są to linki odnoszące się do kazdego z modelów aut dla konkretnego producenta (podanego wcześniej przez uzytkownika) \n",
    "\n",
    "Dane pobierane sa ze strony www.autocentrum.pl "
   ]
  },
  {
   "cell_type": "code",
   "execution_count": 9,
   "metadata": {},
   "outputs": [
    {
     "data": {
      "text/plain": [
       "['https://www.autocentrum.pl/dane-techniczne/ford/bronco/',\n",
       " 'https://www.autocentrum.pl/dane-techniczne/ford/ecosport/',\n",
       " 'https://www.autocentrum.pl/dane-techniczne/ford/escape/',\n",
       " 'https://www.autocentrum.pl/dane-techniczne/ford/explorer/',\n",
       " 'https://www.autocentrum.pl/dane-techniczne/ford/fiesta/',\n",
       " 'https://www.autocentrum.pl/dane-techniczne/ford/flex/',\n",
       " 'https://www.autocentrum.pl/dane-techniczne/ford/focus/',\n",
       " 'https://www.autocentrum.pl/dane-techniczne/ford/galaxy/',\n",
       " 'https://www.autocentrum.pl/dane-techniczne/ford/kuga/',\n",
       " 'https://www.autocentrum.pl/dane-techniczne/ford/mustang/',\n",
       " 'https://www.autocentrum.pl/dane-techniczne/ford/mustang-mach-e/',\n",
       " 'https://www.autocentrum.pl/dane-techniczne/ford/puma/',\n",
       " 'https://www.autocentrum.pl/dane-techniczne/ford/ranger/',\n",
       " 'https://www.autocentrum.pl/dane-techniczne/ford/s-max/',\n",
       " 'https://www.autocentrum.pl/dane-techniczne/ford/seria-f/',\n",
       " 'https://www.autocentrum.pl/dane-techniczne/ford/tourneo-courier/',\n",
       " 'https://www.autocentrum.pl/dane-techniczne/ford/tourneo-custom/',\n",
       " 'https://www.autocentrum.pl/dane-techniczne/ford/transit/',\n",
       " 'https://www.autocentrum.pl/dane-techniczne/ford/transit-connect/',\n",
       " 'https://www.autocentrum.pl/dane-techniczne/ford/transit-custom/',\n",
       " 'https://www.autocentrum.pl/dane-techniczne/ford/aerostar/',\n",
       " 'https://www.autocentrum.pl/dane-techniczne/ford/aspire/silnik-benzynowy-1.3-i-64km-1994-1998/',\n",
       " 'https://www.autocentrum.pl/dane-techniczne/ford/b-max/',\n",
       " 'https://www.autocentrum.pl/dane-techniczne/ford/c-max/',\n",
       " 'https://www.autocentrum.pl/dane-techniczne/ford/capri/',\n",
       " 'https://www.autocentrum.pl/dane-techniczne/ford/contour/',\n",
       " 'https://www.autocentrum.pl/dane-techniczne/ford/cougar/',\n",
       " 'https://www.autocentrum.pl/dane-techniczne/ford/courier/',\n",
       " 'https://www.autocentrum.pl/dane-techniczne/ford/crown-victoria/',\n",
       " 'https://www.autocentrum.pl/dane-techniczne/ford/econoline/',\n",
       " 'https://www.autocentrum.pl/dane-techniczne/ford/econovan/',\n",
       " 'https://www.autocentrum.pl/dane-techniczne/ford/edge/',\n",
       " 'https://www.autocentrum.pl/dane-techniczne/ford/edge-vignale/',\n",
       " 'https://www.autocentrum.pl/dane-techniczne/ford/escort/',\n",
       " 'https://www.autocentrum.pl/dane-techniczne/ford/escort-usa/',\n",
       " 'https://www.autocentrum.pl/dane-techniczne/ford/excursion/',\n",
       " 'https://www.autocentrum.pl/dane-techniczne/ford/expedition/',\n",
       " 'https://www.autocentrum.pl/dane-techniczne/ford/express/',\n",
       " 'https://www.autocentrum.pl/dane-techniczne/ford/falcon/',\n",
       " 'https://www.autocentrum.pl/dane-techniczne/ford/festiva/',\n",
       " 'https://www.autocentrum.pl/dane-techniczne/ford/fiesta-vignale/',\n",
       " 'https://www.autocentrum.pl/dane-techniczne/ford/focus-vignale/',\n",
       " 'https://www.autocentrum.pl/dane-techniczne/ford/freestar/',\n",
       " 'https://www.autocentrum.pl/dane-techniczne/ford/fusion/',\n",
       " 'https://www.autocentrum.pl/dane-techniczne/ford/granada/',\n",
       " 'https://www.autocentrum.pl/dane-techniczne/ford/gt/',\n",
       " 'https://www.autocentrum.pl/dane-techniczne/ford/ka/',\n",
       " 'https://www.autocentrum.pl/dane-techniczne/ford/ka-plus/',\n",
       " 'https://www.autocentrum.pl/dane-techniczne/ford/kuga-vignale/',\n",
       " 'https://www.autocentrum.pl/dane-techniczne/ford/ltd/',\n",
       " 'https://www.autocentrum.pl/dane-techniczne/ford/maverick/',\n",
       " 'https://www.autocentrum.pl/dane-techniczne/ford/mondeo/',\n",
       " 'https://www.autocentrum.pl/dane-techniczne/ford/mondeo-vignale/',\n",
       " 'https://www.autocentrum.pl/dane-techniczne/ford/orion/',\n",
       " 'https://www.autocentrum.pl/dane-techniczne/ford/probe/',\n",
       " 'https://www.autocentrum.pl/dane-techniczne/ford/s-max-vignale/',\n",
       " 'https://www.autocentrum.pl/dane-techniczne/ford/scorpio/',\n",
       " 'https://www.autocentrum.pl/dane-techniczne/ford/sierra/',\n",
       " 'https://www.autocentrum.pl/dane-techniczne/ford/taunus/',\n",
       " 'https://www.autocentrum.pl/dane-techniczne/ford/taurus/',\n",
       " 'https://www.autocentrum.pl/dane-techniczne/ford/tempo/',\n",
       " 'https://www.autocentrum.pl/dane-techniczne/ford/thunderbird/',\n",
       " 'https://www.autocentrum.pl/dane-techniczne/ford/tourneo-connect/',\n",
       " 'https://www.autocentrum.pl/dane-techniczne/ford/transit-courier/',\n",
       " 'https://www.autocentrum.pl/dane-techniczne/ford/windstar/']"
      ]
     },
     "execution_count": 9,
     "metadata": {},
     "output_type": "execute_result"
    }
   ],
   "source": [
    "#import potrzebnych bibliotek\n",
    "import requests \n",
    "from bs4 import BeautifulSoup\n",
    "def get_model_pages_urls(car_brand: str):\n",
    "\n",
    "    formatted_brand = car_brand.lower().replace(\" \", \"-\")                           #poprawne sformatowanie informacji od uzytkownika \n",
    "    brand_url = f'https://www.autocentrum.pl/dane-techniczne/{formatted_brand}/'    #dodanie sformatowanej nazwy do kodu URL\n",
    "\n",
    "    r = requests.get(brand_url)              \n",
    "    soup = BeautifulSoup(r.text, 'html.parser') \n",
    "\n",
    "    models = soup.find_all('a', class_='car-selector-box')\n",
    "\n",
    "    results = []  #stworzenie pustej listy, do której zostaną nadpisane linku z modelami\n",
    "\n",
    "    for model in models:                                #iteracja szukająca linku dla kazdego z modeli\n",
    "        link = model.get('href')                        #zmienna zawierajaca link do modelu\n",
    "        full_link = f'https://www.autocentrum.pl{link}' #zmienna zawierajaca pełen kod URL\n",
    "        results.append(full_link)                       #funkcja append, która kazdorazowo dodaje pełen kod URL to listy results.\n",
    "\n",
    "    return results  #jako, ze jest to funkcja to musimy uzyc return aby ja zakonczyc \n",
    "\n",
    "get_model_pages_urls(\"Ford\") #tutaj wywołujemy funkcję, poprzez podanie producenta samochodów. "
   ]
  },
  {
   "cell_type": "code",
   "execution_count": null,
   "metadata": {},
   "outputs": [],
   "source": []
  }
 ],
 "metadata": {
  "kernelspec": {
   "display_name": "base",
   "language": "python",
   "name": "python3"
  },
  "language_info": {
   "codemirror_mode": {
    "name": "ipython",
    "version": 3
   },
   "file_extension": ".py",
   "mimetype": "text/x-python",
   "name": "python",
   "nbconvert_exporter": "python",
   "pygments_lexer": "ipython3",
   "version": "3.11.4"
  },
  "orig_nbformat": 4
 },
 "nbformat": 4,
 "nbformat_minor": 2
}
